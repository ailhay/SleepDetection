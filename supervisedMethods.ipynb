{
 "cells": [
  {
   "cell_type": "markdown",
   "metadata": {},
   "source": [
    "# Overview\n",
    "The task is to identify sleep patterns given samples of accelerometer data. "
   ]
  },
  {
   "cell_type": "code",
   "execution_count": 1,
   "metadata": {},
   "outputs": [],
   "source": [
    "# Render our plots inline\n",
    "%matplotlib inline\n",
    "\n",
    "import numpy as np\n",
    "import h5py\n",
    "import pandas as pd\n",
    "import datetime \n",
    "import matplotlib.pyplot as plt\n",
    "from pandas import HDFStore,DataFrame\n",
    "import itertools"
   ]
  },
  {
   "cell_type": "code",
   "execution_count": 2,
   "metadata": {},
   "outputs": [],
   "source": [
    "def load_data(subject_number):\n",
    "    filename = filepath + subject_number +'_labelled.csv'\n",
    "    hf = h5py.File(filename, 'r')\n",
    "\n",
    "    reread = pd.read_hdf(filename)\n",
    "    data = reread#.head(10000)\n",
    "    hf.close()\n",
    "    return data\n",
    "\n",
    "def load_csv(filename):\n",
    "    data = pd.read_csv(filepath + filename)\n",
    "    \n",
    "    return data"
   ]
  },
  {
   "cell_type": "code",
   "execution_count": 3,
   "metadata": {},
   "outputs": [],
   "source": [
    "X = load_csv('Data_energy_features.csv')\n",
    "y = load_csv('Data_energy_targets.csv')"
   ]
  },
  {
   "cell_type": "code",
   "execution_count": 4,
   "metadata": {},
   "outputs": [
    {
     "data": {
      "text/html": [
       "<div>\n",
       "<style scoped>\n",
       "    .dataframe tbody tr th:only-of-type {\n",
       "        vertical-align: middle;\n",
       "    }\n",
       "\n",
       "    .dataframe tbody tr th {\n",
       "        vertical-align: top;\n",
       "    }\n",
       "\n",
       "    .dataframe thead th {\n",
       "        text-align: right;\n",
       "    }\n",
       "</style>\n",
       "<table border=\"1\" class=\"dataframe\">\n",
       "  <thead>\n",
       "    <tr style=\"text-align: right;\">\n",
       "      <th></th>\n",
       "      <th>0</th>\n",
       "      <th>1</th>\n",
       "      <th>2</th>\n",
       "      <th>3</th>\n",
       "      <th>4</th>\n",
       "      <th>5</th>\n",
       "      <th>6</th>\n",
       "      <th>7</th>\n",
       "      <th>8</th>\n",
       "      <th>9</th>\n",
       "      <th>...</th>\n",
       "      <th>90</th>\n",
       "      <th>91</th>\n",
       "      <th>92</th>\n",
       "      <th>93</th>\n",
       "      <th>94</th>\n",
       "      <th>95</th>\n",
       "      <th>96</th>\n",
       "      <th>97</th>\n",
       "      <th>98</th>\n",
       "      <th>99</th>\n",
       "    </tr>\n",
       "  </thead>\n",
       "  <tbody>\n",
       "    <tr>\n",
       "      <th>0</th>\n",
       "      <td>16.927285</td>\n",
       "      <td>0.028197</td>\n",
       "      <td>0.903463</td>\n",
       "      <td>-0.898415</td>\n",
       "      <td>0.095374</td>\n",
       "      <td>12.844111</td>\n",
       "      <td>-0.973280</td>\n",
       "      <td>-28300.063776</td>\n",
       "      <td>-0.106159</td>\n",
       "      <td>0.134098</td>\n",
       "      <td>...</td>\n",
       "      <td>5.736823</td>\n",
       "      <td>44696.882877</td>\n",
       "      <td>0.070030</td>\n",
       "      <td>0.020998</td>\n",
       "      <td>0.0</td>\n",
       "      <td>244.0</td>\n",
       "      <td>3183.0</td>\n",
       "      <td>2589.0</td>\n",
       "      <td>0.000736</td>\n",
       "      <td>0.001776</td>\n",
       "    </tr>\n",
       "    <tr>\n",
       "      <th>1</th>\n",
       "      <td>17.129378</td>\n",
       "      <td>0.029303</td>\n",
       "      <td>0.905216</td>\n",
       "      <td>-0.900056</td>\n",
       "      <td>0.096513</td>\n",
       "      <td>12.586510</td>\n",
       "      <td>-0.779992</td>\n",
       "      <td>-28351.774136</td>\n",
       "      <td>-0.107230</td>\n",
       "      <td>0.134744</td>\n",
       "      <td>...</td>\n",
       "      <td>5.704391</td>\n",
       "      <td>44683.243507</td>\n",
       "      <td>0.070242</td>\n",
       "      <td>0.022157</td>\n",
       "      <td>0.0</td>\n",
       "      <td>265.0</td>\n",
       "      <td>3108.0</td>\n",
       "      <td>2600.0</td>\n",
       "      <td>0.000741</td>\n",
       "      <td>0.001762</td>\n",
       "    </tr>\n",
       "    <tr>\n",
       "      <th>2</th>\n",
       "      <td>17.426747</td>\n",
       "      <td>0.031346</td>\n",
       "      <td>0.911347</td>\n",
       "      <td>-0.906042</td>\n",
       "      <td>0.098189</td>\n",
       "      <td>12.149641</td>\n",
       "      <td>-0.708069</td>\n",
       "      <td>-28540.320374</td>\n",
       "      <td>-0.108371</td>\n",
       "      <td>0.140949</td>\n",
       "      <td>...</td>\n",
       "      <td>5.443982</td>\n",
       "      <td>44689.143462</td>\n",
       "      <td>0.072701</td>\n",
       "      <td>0.024180</td>\n",
       "      <td>0.0</td>\n",
       "      <td>259.0</td>\n",
       "      <td>3055.0</td>\n",
       "      <td>2632.0</td>\n",
       "      <td>0.000753</td>\n",
       "      <td>0.001751</td>\n",
       "    </tr>\n",
       "    <tr>\n",
       "      <th>3</th>\n",
       "      <td>19.352964</td>\n",
       "      <td>0.036833</td>\n",
       "      <td>0.915983</td>\n",
       "      <td>-0.909469</td>\n",
       "      <td>0.109042</td>\n",
       "      <td>15.777364</td>\n",
       "      <td>0.240599</td>\n",
       "      <td>-28648.275029</td>\n",
       "      <td>-0.119896</td>\n",
       "      <td>0.145187</td>\n",
       "      <td>...</td>\n",
       "      <td>5.018413</td>\n",
       "      <td>44737.946757</td>\n",
       "      <td>0.079423</td>\n",
       "      <td>0.025706</td>\n",
       "      <td>0.0</td>\n",
       "      <td>251.0</td>\n",
       "      <td>2994.0</td>\n",
       "      <td>2638.0</td>\n",
       "      <td>0.000784</td>\n",
       "      <td>0.001727</td>\n",
       "    </tr>\n",
       "    <tr>\n",
       "      <th>4</th>\n",
       "      <td>29.635949</td>\n",
       "      <td>0.040855</td>\n",
       "      <td>0.910935</td>\n",
       "      <td>-0.895500</td>\n",
       "      <td>0.166980</td>\n",
       "      <td>18.379793</td>\n",
       "      <td>3.015666</td>\n",
       "      <td>-28208.260675</td>\n",
       "      <td>-0.186465</td>\n",
       "      <td>0.146625</td>\n",
       "      <td>...</td>\n",
       "      <td>4.751292</td>\n",
       "      <td>44771.750679</td>\n",
       "      <td>0.084323</td>\n",
       "      <td>0.027117</td>\n",
       "      <td>0.0</td>\n",
       "      <td>248.0</td>\n",
       "      <td>2931.0</td>\n",
       "      <td>2633.0</td>\n",
       "      <td>0.000931</td>\n",
       "      <td>0.001697</td>\n",
       "    </tr>\n",
       "  </tbody>\n",
       "</table>\n",
       "<p>5 rows × 100 columns</p>\n",
       "</div>"
      ],
      "text/plain": [
       "           0         1         2         3         4          5         6  \\\n",
       "0  16.927285  0.028197  0.903463 -0.898415  0.095374  12.844111 -0.973280   \n",
       "1  17.129378  0.029303  0.905216 -0.900056  0.096513  12.586510 -0.779992   \n",
       "2  17.426747  0.031346  0.911347 -0.906042  0.098189  12.149641 -0.708069   \n",
       "3  19.352964  0.036833  0.915983 -0.909469  0.109042  15.777364  0.240599   \n",
       "4  29.635949  0.040855  0.910935 -0.895500  0.166980  18.379793  3.015666   \n",
       "\n",
       "              7         8         9    ...           90            91  \\\n",
       "0 -28300.063776 -0.106159  0.134098    ...     5.736823  44696.882877   \n",
       "1 -28351.774136 -0.107230  0.134744    ...     5.704391  44683.243507   \n",
       "2 -28540.320374 -0.108371  0.140949    ...     5.443982  44689.143462   \n",
       "3 -28648.275029 -0.119896  0.145187    ...     5.018413  44737.946757   \n",
       "4 -28208.260675 -0.186465  0.146625    ...     4.751292  44771.750679   \n",
       "\n",
       "         92        93   94     95      96      97        98        99  \n",
       "0  0.070030  0.020998  0.0  244.0  3183.0  2589.0  0.000736  0.001776  \n",
       "1  0.070242  0.022157  0.0  265.0  3108.0  2600.0  0.000741  0.001762  \n",
       "2  0.072701  0.024180  0.0  259.0  3055.0  2632.0  0.000753  0.001751  \n",
       "3  0.079423  0.025706  0.0  251.0  2994.0  2638.0  0.000784  0.001727  \n",
       "4  0.084323  0.027117  0.0  248.0  2931.0  2633.0  0.000931  0.001697  \n",
       "\n",
       "[5 rows x 100 columns]"
      ]
     },
     "execution_count": 4,
     "metadata": {},
     "output_type": "execute_result"
    }
   ],
   "source": [
    "X.head()"
   ]
  },
  {
   "cell_type": "code",
   "execution_count": 5,
   "metadata": {},
   "outputs": [
    {
     "data": {
      "text/html": [
       "<div>\n",
       "<style scoped>\n",
       "    .dataframe tbody tr th:only-of-type {\n",
       "        vertical-align: middle;\n",
       "    }\n",
       "\n",
       "    .dataframe tbody tr th {\n",
       "        vertical-align: top;\n",
       "    }\n",
       "\n",
       "    .dataframe thead th {\n",
       "        text-align: right;\n",
       "    }\n",
       "</style>\n",
       "<table border=\"1\" class=\"dataframe\">\n",
       "  <thead>\n",
       "    <tr style=\"text-align: right;\">\n",
       "      <th></th>\n",
       "      <th>0</th>\n",
       "    </tr>\n",
       "  </thead>\n",
       "  <tbody>\n",
       "    <tr>\n",
       "      <th>0</th>\n",
       "      <td>2</td>\n",
       "    </tr>\n",
       "    <tr>\n",
       "      <th>1</th>\n",
       "      <td>2</td>\n",
       "    </tr>\n",
       "    <tr>\n",
       "      <th>2</th>\n",
       "      <td>2</td>\n",
       "    </tr>\n",
       "    <tr>\n",
       "      <th>3</th>\n",
       "      <td>2</td>\n",
       "    </tr>\n",
       "    <tr>\n",
       "      <th>4</th>\n",
       "      <td>2</td>\n",
       "    </tr>\n",
       "  </tbody>\n",
       "</table>\n",
       "</div>"
      ],
      "text/plain": [
       "   0\n",
       "0  2\n",
       "1  2\n",
       "2  2\n",
       "3  2\n",
       "4  2"
      ]
     },
     "execution_count": 5,
     "metadata": {},
     "output_type": "execute_result"
    }
   ],
   "source": [
    "y.head()"
   ]
  },
  {
   "cell_type": "code",
   "execution_count": 6,
   "metadata": {},
   "outputs": [],
   "source": [
    "# reset index \n",
    "#X = X.drop(['Unnamed: 0'], axis=1)\n",
    "#y = y.drop(['Unnamed: 0'], axis=1)\n",
    "\n",
    "#X.head()"
   ]
  },
  {
   "cell_type": "code",
   "execution_count": 7,
   "metadata": {},
   "outputs": [
    {
     "data": {
      "text/plain": [
       "38340"
      ]
     },
     "execution_count": 7,
     "metadata": {},
     "output_type": "execute_result"
    }
   ],
   "source": [
    "y.shape[0]"
   ]
  },
  {
   "cell_type": "markdown",
   "metadata": {},
   "source": [
    "# Feature selection"
   ]
  },
  {
   "cell_type": "code",
   "execution_count": 10,
   "metadata": {},
   "outputs": [],
   "source": [
    "#get the names of all features\n",
    "\n",
    "features_x1 = ['energy_x1','mmm_x1', 'rms_x1', 'mean_x1', 'std_x1', 'k_x1', 'sk_x1', 'sum_x1', 'cv_x1', 'iqr_x1', 'zcr_x1', 'smc_x1', 'smp_x1', 'smf_x1']\n",
    "features_y1 = ['energy_y1','mmm_y1', 'rms_y1', 'mean_y1', 'std_y1', 'k_y1', 'sk_y1', 'sum_y1', 'cv_y1', 'iqr_y1', 'zcr_y1', 'smc_y1', 'smp_y1', 'smf_y1']\n",
    "features_z1 = ['energy_z1','mmm_z1', 'rms_z1', 'mean_z1', 'std_z1', 'k_z1', 'sk_z1', 'sum_z1', 'cv_z1', 'iqr_z1', 'zcr_z1', 'smc_z1', 'smp_z1', 'smf_z1']\n",
    "features_x2 = ['energy_x2','mmm_x2', 'rms_x2', 'mean_x2', 'std_x2', 'k_x2', 'sk_x2', 'sum_x2', 'cv_x2', 'iqr_x2', 'zcr_x2', 'smc_x2', 'smp_x2', 'smf_x2']\n",
    "features_y2 = ['energy_y2','mmm_y2', 'rms_y2', 'mean_y2', 'std_y2', 'k_y2', 'sk_y2', 'sum_y2', 'cv_y2', 'iqr_y2', 'zcr_y2', 'smc_y2', 'smp_y2', 'smf_y2']\n",
    "features_z2 = ['energy_z2','mmm_z2', 'rms_z2', 'mean_z2', 'std_z2', 'k_z2', 'sk_z2', 'sum_z2', 'cv_z2', 'iqr_z2', 'zcr_z2', 'smc_z2', 'smp_z2', 'smf_z2']\n",
    "features_m = ['energy_m','mmm_m', 'rms_m', 'mean_m', 'std_m', 'k_m', 'sk_m', 'sum_m', 'cv_m', 'iqr_m', 'zcr_m', 'smc_m', 'smp_m', 'smf_m']\n",
    "features_e = ['energy_1', 'energy_2']\n",
    "\n",
    "feature_names_2 = features_x1 + features_y1 + features_z1 + features_x2 + features_y2 + features_z2 + features_m + features_e\n",
    "\n",
    "features_x1 = ['mmm_x1', 'rms_x1', 'mean_x1', 'std_x1', 'k_x1', 'sk_x1', 'sum_x1', 'cv_x1', 'iqr_x1', 'zcr_x1', 'smc_x1', 'smp_x1', 'smf_x1']\n",
    "features_y1 = ['mmm_y1', 'rms_y1', 'mean_y1', 'std_y1', 'k_y1', 'sk_y1', 'sum_y1', 'cv_y1', 'iqr_y1', 'zcr_y1', 'smc_y1', 'smp_y1', 'smf_y1']\n",
    "features_z1 = ['mmm_z1', 'rms_z1', 'mean_z1', 'std_z1', 'k_z1', 'sk_z1', 'sum_z1', 'cv_z1', 'iqr_z1', 'zcr_z1', 'smc_z1', 'smp_z1', 'smf_z1']\n",
    "features_x2 = ['mmm_x2', 'rms_x2', 'mean_x2', 'std_x2', 'k_x2', 'sk_x2', 'sum_x2', 'cv_x2', 'iqr_x2', 'zcr_x2', 'smc_x2', 'smp_x2', 'smf_x2']\n",
    "features_y2 = ['mmm_y2', 'rms_y2', 'mean_y2', 'std_y2', 'k_y2', 'sk_y2', 'sum_y2', 'cv_y2', 'iqr_y2', 'zcr_y2', 'smc_y2', 'smp_y2', 'smf_y2']\n",
    "features_z2 = ['mmm_z2', 'rms_z2', 'mean_z2', 'std_z2', 'k_z2', 'sk_z2', 'sum_z2', 'cv_z2', 'iqr_z2', 'zcr_z2', 'smc_z2', 'smp_z2', 'smf_z2']\n",
    "features_m = ['mmm_m', 'rms_m', 'mean_m', 'std_m', 'k_m', 'sk_m', 'sum_m', 'cv_m', 'iqr_m', 'zcr_m', 'smc_m', 'smp_m', 'smf_m']\n",
    "\n",
    "feature_names_1 = features_x1 + features_y1 + features_z1 + features_x2 + features_y2 + features_z2 + features_m \n",
    "\n",
    "feature_names = feature_names_2 #update as needed"
   ]
  },
  {
   "cell_type": "code",
   "execution_count": 11,
   "metadata": {},
   "outputs": [
    {
     "name": "stdout",
     "output_type": "stream",
     "text": [
      "Number of features removed:34\n",
      "Number of features left:66\n"
     ]
    }
   ],
   "source": [
    "#Removing features with low variance\n",
    "# We want to remove all features that are either one or zero (on or off) in more than 80% of the samples\n",
    "from sklearn.feature_selection import VarianceThreshold\n",
    "\n",
    "sel = VarianceThreshold(threshold=(.80 * (1 - .80)))\n",
    "X_vt = sel.fit_transform(X)\n",
    "\n",
    "print('Number of features removed:' + str(X.shape[1]-X_vt.shape[1]))\n",
    "print('Number of features left:' + str(X_vt.shape[1]))"
   ]
  },
  {
   "cell_type": "code",
   "execution_count": 12,
   "metadata": {},
   "outputs": [
    {
     "name": "stdout",
     "output_type": "stream",
     "text": [
      "Number of features removed:80\n",
      "Number of features left:20\n"
     ]
    },
    {
     "name": "stderr",
     "output_type": "stream",
     "text": [
      "C:\\Users\\ailee\\Anaconda3\\lib\\site-packages\\sklearn\\utils\\validation.py:578: DataConversionWarning: A column-vector y was passed when a 1d array was expected. Please change the shape of y to (n_samples, ), for example using ravel().\n",
      "  y = column_or_1d(y, warn=True)\n"
     ]
    }
   ],
   "source": [
    "# Univariate feature selection - KBest\n",
    "from sklearn.feature_selection import SelectKBest, f_classif, mutual_info_classif\n",
    "\n",
    "X_uni_c = SelectKBest(f_classif, k=20).fit_transform(X, y)\n",
    "\n",
    "print('Number of features removed:' + str(X.shape[1]-X_uni_c.shape[1]))\n",
    "print('Number of features left:' + str(X_uni_c.shape[1]))"
   ]
  },
  {
   "cell_type": "code",
   "execution_count": 13,
   "metadata": {},
   "outputs": [
    {
     "name": "stderr",
     "output_type": "stream",
     "text": [
      "C:\\Users\\ailee\\Anaconda3\\lib\\site-packages\\sklearn\\utils\\validation.py:578: DataConversionWarning: A column-vector y was passed when a 1d array was expected. Please change the shape of y to (n_samples, ), for example using ravel().\n",
      "  y = column_or_1d(y, warn=True)\n"
     ]
    },
    {
     "name": "stdout",
     "output_type": "stream",
     "text": [
      "Number of features removed:40\n",
      "Number of features left:60\n"
     ]
    }
   ],
   "source": [
    "# L1-based feature selection\n",
    "from sklearn.svm import LinearSVC\n",
    "from sklearn.feature_selection import SelectFromModel\n",
    "\n",
    "lsvc = LinearSVC(C=0.01, penalty=\"l1\", dual=False).fit(X, y)\n",
    "model = SelectFromModel(lsvc, prefit=True)\n",
    "X_l1 = model.transform(X)\n",
    "\n",
    "print('Number of features removed:' + str(X.shape[1]-X_l1.shape[1]))\n",
    "print('Number of features left:' + str(X_l1.shape[1]))"
   ]
  },
  {
   "cell_type": "code",
   "execution_count": 14,
   "metadata": {},
   "outputs": [
    {
     "name": "stderr",
     "output_type": "stream",
     "text": [
      "C:\\Users\\ailee\\Anaconda3\\lib\\site-packages\\sklearn\\ensemble\\weight_boosting.py:29: DeprecationWarning: numpy.core.umath_tests is an internal NumPy module and should not be imported. It will be removed in a future NumPy release.\n",
      "  from numpy.core.umath_tests import inner1d\n",
      "C:\\Users\\ailee\\Anaconda3\\lib\\site-packages\\ipykernel_launcher.py:5: DataConversionWarning: A column-vector y was passed when a 1d array was expected. Please change the shape of y to (n_samples,), for example using ravel().\n",
      "  \"\"\"\n"
     ]
    },
    {
     "name": "stdout",
     "output_type": "stream",
     "text": [
      "Number of features removed:78\n",
      "Number of features left:22\n"
     ]
    }
   ],
   "source": [
    "# Tree-based feature selection\n",
    "from sklearn.ensemble import ExtraTreesClassifier\n",
    "\n",
    "clf = ExtraTreesClassifier(n_estimators=50)\n",
    "clf = clf.fit(X, y)\n",
    "clf.feature_importances_\n",
    "model = SelectFromModel(clf, prefit=True)\n",
    "X_tree = model.transform(X)\n",
    "\n",
    "print('Number of features removed:' + str(X.shape[1]-X_tree.shape[1]))\n",
    "print('Number of features left:' + str(X_tree.shape[1]))"
   ]
  },
  {
   "cell_type": "code",
   "execution_count": 15,
   "metadata": {},
   "outputs": [],
   "source": [
    "#function that returns the list of features remaining after feature selection\n",
    "def get_remaining_features(org_X, new_X, feature_names):\n",
    "    \n",
    "    org_features = org_X.iloc[0]\n",
    "    new_features = new_X[0]\n",
    "\n",
    "    remaining_names = []\n",
    "    \n",
    "    num_new_features = len(new_features)\n",
    "    num_features = len(org_features)\n",
    "    \n",
    "    for i in range(num_new_features):\n",
    "        feature = new_features[i]\n",
    "        \n",
    "        for j in range(num_features):\n",
    "            f = org_features[j]\n",
    "            if feature == f:\n",
    "                remaining_names.append(feature_names[j])\n",
    "                break\n",
    "    \n",
    "    return remaining_names"
   ]
  },
  {
   "cell_type": "code",
   "execution_count": 16,
   "metadata": {},
   "outputs": [],
   "source": [
    "#get the list of names for the features selected through the feature selection methods\n",
    "\n",
    "vt_features = get_remaining_features(X, X_vt, feature_names)\n",
    "uni_features = get_remaining_features(X, X_uni_c, feature_names)\n",
    "l1_features = get_remaining_features(X, X_l1, feature_names)\n",
    "tree_features = get_remaining_features(X, X_tree, feature_names)"
   ]
  },
  {
   "cell_type": "code",
   "execution_count": 17,
   "metadata": {},
   "outputs": [],
   "source": [
    "#function that returns a sorted list of all features based on their occurence in the four different feature selections.\n",
    "def sort_features(features1, features2, features3, features4, feature_names):\n",
    "    \n",
    "    values = [0] * (len(feature_names))\n",
    "    \n",
    "    d = {'Feature': feature_names, 'Occurence': values}\n",
    "    \n",
    "    df = pd.DataFrame(data=d)\n",
    "    \n",
    "    length = len(feature_names)\n",
    "    \n",
    "    for i in range(length):\n",
    "        feature = feature_names[i]\n",
    "        o= 0\n",
    "        \n",
    "        if features1.count(feature) == 1:\n",
    "            o = o + 1\n",
    "        if features2.count(feature) == 1:\n",
    "            o = o + 1\n",
    "        if features3.count(feature) == 1:\n",
    "            o = o + 1\n",
    "        if features4.count(feature) == 1:\n",
    "            o = o + 1\n",
    "        \n",
    "        df.iloc[i, 1] = o\n",
    "    \n",
    "    df = df.sort_values(by=['Occurence'], ascending=False)\n",
    "    \n",
    "    return df"
   ]
  },
  {
   "cell_type": "code",
   "execution_count": 18,
   "metadata": {},
   "outputs": [],
   "source": [
    "#Function that returns X with only the top n features with the highest occurence in the four different feature selections\n",
    "def remove_features(X, vt_features, uni_features, l1_features, tree_features, n, feature_names):\n",
    "    \n",
    "    f_sorted = sort_features(vt_features, uni_features, l1_features, tree_features, feature_names)\n",
    "    f_sorted = f_sorted.reset_index()\n",
    "    \n",
    "    most_conf_f = f_sorted['Feature'].loc[0:n-1].tolist()\n",
    "    \n",
    "    #Removes features not in the f_list\n",
    "    df = X.copy()\n",
    "    df.columns = feature_names\n",
    "    \n",
    "    for feature in feature_names:\n",
    "        if most_conf_f.count(feature) == 1:\n",
    "            continue\n",
    "        else:\n",
    "            df = df.drop([feature], axis=1)\n",
    "    \n",
    "    return df\n",
    "    "
   ]
  },
  {
   "cell_type": "code",
   "execution_count": 19,
   "metadata": {},
   "outputs": [],
   "source": [
    "X_new = remove_features(X, vt_features, uni_features, l1_features, tree_features, 20, feature_names)"
   ]
  },
  {
   "cell_type": "code",
   "execution_count": 20,
   "metadata": {},
   "outputs": [
    {
     "data": {
      "text/html": [
       "<div>\n",
       "<style scoped>\n",
       "    .dataframe tbody tr th:only-of-type {\n",
       "        vertical-align: middle;\n",
       "    }\n",
       "\n",
       "    .dataframe tbody tr th {\n",
       "        vertical-align: top;\n",
       "    }\n",
       "\n",
       "    .dataframe thead th {\n",
       "        text-align: right;\n",
       "    }\n",
       "</style>\n",
       "<table border=\"1\" class=\"dataframe\">\n",
       "  <thead>\n",
       "    <tr style=\"text-align: right;\">\n",
       "      <th></th>\n",
       "      <th>rms_x1</th>\n",
       "      <th>mean_x1</th>\n",
       "      <th>sum_x1</th>\n",
       "      <th>rms_y1</th>\n",
       "      <th>smp_y1</th>\n",
       "      <th>smf_y1</th>\n",
       "      <th>energy_z1</th>\n",
       "      <th>smp_z1</th>\n",
       "      <th>energy_x2</th>\n",
       "      <th>rms_x2</th>\n",
       "      <th>sum_x2</th>\n",
       "      <th>smp_x2</th>\n",
       "      <th>rms_y2</th>\n",
       "      <th>k_y2</th>\n",
       "      <th>smp_y2</th>\n",
       "      <th>smf_y2</th>\n",
       "      <th>smp_z2</th>\n",
       "      <th>smf_z2</th>\n",
       "      <th>smp_m</th>\n",
       "      <th>smf_m</th>\n",
       "    </tr>\n",
       "  </thead>\n",
       "  <tbody>\n",
       "    <tr>\n",
       "      <th>0</th>\n",
       "      <td>0.903463</td>\n",
       "      <td>-0.898415</td>\n",
       "      <td>-28300.063776</td>\n",
       "      <td>0.161886</td>\n",
       "      <td>3670.0</td>\n",
       "      <td>2285.0</td>\n",
       "      <td>35.274085</td>\n",
       "      <td>3498.0</td>\n",
       "      <td>62.170285</td>\n",
       "      <td>0.742244</td>\n",
       "      <td>-20613.203197</td>\n",
       "      <td>3645.0</td>\n",
       "      <td>0.197672</td>\n",
       "      <td>4.635305</td>\n",
       "      <td>3882.0</td>\n",
       "      <td>2144.0</td>\n",
       "      <td>4019.0</td>\n",
       "      <td>2424.0</td>\n",
       "      <td>3183.0</td>\n",
       "      <td>2589.0</td>\n",
       "    </tr>\n",
       "    <tr>\n",
       "      <th>1</th>\n",
       "      <td>0.905216</td>\n",
       "      <td>-0.900056</td>\n",
       "      <td>-28351.774136</td>\n",
       "      <td>0.158809</td>\n",
       "      <td>3517.0</td>\n",
       "      <td>2270.0</td>\n",
       "      <td>35.235919</td>\n",
       "      <td>3379.0</td>\n",
       "      <td>61.603830</td>\n",
       "      <td>0.768983</td>\n",
       "      <td>-21615.000638</td>\n",
       "      <td>3499.0</td>\n",
       "      <td>0.191840</td>\n",
       "      <td>4.312827</td>\n",
       "      <td>3743.0</td>\n",
       "      <td>2112.0</td>\n",
       "      <td>3874.0</td>\n",
       "      <td>2399.0</td>\n",
       "      <td>3108.0</td>\n",
       "      <td>2600.0</td>\n",
       "    </tr>\n",
       "    <tr>\n",
       "      <th>2</th>\n",
       "      <td>0.911347</td>\n",
       "      <td>-0.906042</td>\n",
       "      <td>-28540.320374</td>\n",
       "      <td>0.156822</td>\n",
       "      <td>3399.0</td>\n",
       "      <td>2340.0</td>\n",
       "      <td>35.782786</td>\n",
       "      <td>3303.0</td>\n",
       "      <td>60.723219</td>\n",
       "      <td>0.795388</td>\n",
       "      <td>-22618.331083</td>\n",
       "      <td>3399.0</td>\n",
       "      <td>0.187268</td>\n",
       "      <td>4.258014</td>\n",
       "      <td>3619.0</td>\n",
       "      <td>2183.0</td>\n",
       "      <td>3723.0</td>\n",
       "      <td>2492.0</td>\n",
       "      <td>3055.0</td>\n",
       "      <td>2632.0</td>\n",
       "    </tr>\n",
       "    <tr>\n",
       "      <th>3</th>\n",
       "      <td>0.915983</td>\n",
       "      <td>-0.909469</td>\n",
       "      <td>-28648.275029</td>\n",
       "      <td>0.154479</td>\n",
       "      <td>3248.0</td>\n",
       "      <td>2347.0</td>\n",
       "      <td>36.510774</td>\n",
       "      <td>3220.0</td>\n",
       "      <td>59.715859</td>\n",
       "      <td>0.821495</td>\n",
       "      <td>-23607.097805</td>\n",
       "      <td>3263.0</td>\n",
       "      <td>0.185562</td>\n",
       "      <td>4.359285</td>\n",
       "      <td>3410.0</td>\n",
       "      <td>2198.0</td>\n",
       "      <td>3543.0</td>\n",
       "      <td>2523.0</td>\n",
       "      <td>2994.0</td>\n",
       "      <td>2638.0</td>\n",
       "    </tr>\n",
       "    <tr>\n",
       "      <th>4</th>\n",
       "      <td>0.910935</td>\n",
       "      <td>-0.895500</td>\n",
       "      <td>-28208.260675</td>\n",
       "      <td>0.151540</td>\n",
       "      <td>3112.0</td>\n",
       "      <td>2343.0</td>\n",
       "      <td>39.697026</td>\n",
       "      <td>3135.0</td>\n",
       "      <td>57.841449</td>\n",
       "      <td>0.842230</td>\n",
       "      <td>-24463.572431</td>\n",
       "      <td>3173.0</td>\n",
       "      <td>0.186045</td>\n",
       "      <td>3.669012</td>\n",
       "      <td>3238.0</td>\n",
       "      <td>2218.0</td>\n",
       "      <td>3355.0</td>\n",
       "      <td>2531.0</td>\n",
       "      <td>2931.0</td>\n",
       "      <td>2633.0</td>\n",
       "    </tr>\n",
       "  </tbody>\n",
       "</table>\n",
       "</div>"
      ],
      "text/plain": [
       "     rms_x1   mean_x1        sum_x1    rms_y1  smp_y1  smf_y1  energy_z1  \\\n",
       "0  0.903463 -0.898415 -28300.063776  0.161886  3670.0  2285.0  35.274085   \n",
       "1  0.905216 -0.900056 -28351.774136  0.158809  3517.0  2270.0  35.235919   \n",
       "2  0.911347 -0.906042 -28540.320374  0.156822  3399.0  2340.0  35.782786   \n",
       "3  0.915983 -0.909469 -28648.275029  0.154479  3248.0  2347.0  36.510774   \n",
       "4  0.910935 -0.895500 -28208.260675  0.151540  3112.0  2343.0  39.697026   \n",
       "\n",
       "   smp_z1  energy_x2    rms_x2        sum_x2  smp_x2    rms_y2      k_y2  \\\n",
       "0  3498.0  62.170285  0.742244 -20613.203197  3645.0  0.197672  4.635305   \n",
       "1  3379.0  61.603830  0.768983 -21615.000638  3499.0  0.191840  4.312827   \n",
       "2  3303.0  60.723219  0.795388 -22618.331083  3399.0  0.187268  4.258014   \n",
       "3  3220.0  59.715859  0.821495 -23607.097805  3263.0  0.185562  4.359285   \n",
       "4  3135.0  57.841449  0.842230 -24463.572431  3173.0  0.186045  3.669012   \n",
       "\n",
       "   smp_y2  smf_y2  smp_z2  smf_z2   smp_m   smf_m  \n",
       "0  3882.0  2144.0  4019.0  2424.0  3183.0  2589.0  \n",
       "1  3743.0  2112.0  3874.0  2399.0  3108.0  2600.0  \n",
       "2  3619.0  2183.0  3723.0  2492.0  3055.0  2632.0  \n",
       "3  3410.0  2198.0  3543.0  2523.0  2994.0  2638.0  \n",
       "4  3238.0  2218.0  3355.0  2531.0  2931.0  2633.0  "
      ]
     },
     "execution_count": 20,
     "metadata": {},
     "output_type": "execute_result"
    }
   ],
   "source": [
    "X_new.head()"
   ]
  },
  {
   "cell_type": "markdown",
   "metadata": {},
   "source": [
    "# Model building and evaluation"
   ]
  },
  {
   "cell_type": "code",
   "execution_count": 21,
   "metadata": {},
   "outputs": [
    {
     "name": "stderr",
     "output_type": "stream",
     "text": [
      "C:\\Users\\ailee\\Anaconda3\\lib\\site-packages\\sklearn\\cross_validation.py:41: DeprecationWarning: This module was deprecated in version 0.18 in favor of the model_selection module into which all the refactored classes and functions are moved. Also note that the interface of the new CV iterators are different from that of this module. This module will be removed in 0.20.\n",
      "  \"This module will be removed in 0.20.\", DeprecationWarning)\n"
     ]
    }
   ],
   "source": [
    "from sklearn.cross_validation import train_test_split, cross_val_score\n",
    "\n",
    "x = X\n",
    "\n",
    "#Choose night 1 for analysis\n",
    "X_train= x.loc[0:34079].copy().values\n",
    "X_test = x.loc[34080:].copy().values\n",
    "\n",
    "y_train = y.loc[0:34079].copy().values\n",
    "y_test = y.loc[34080:].copy().values\n",
    "\n",
    "# train-test split - feature data\n",
    "#X_train, X_test, y_train, y_test = train_test_split(X, y, test_size = .2, random_state=1)"
   ]
  },
  {
   "cell_type": "code",
   "execution_count": 22,
   "metadata": {},
   "outputs": [],
   "source": [
    "import sklearn.metrics as met\n",
    "import seaborn as sn\n",
    "    \n",
    "# helper function to quickly build different models\n",
    "def model_build(model, X_train, y_train):\n",
    "    model.fit(X_train, y_train)\n",
    "    return model\n",
    "\n",
    "def plot_confusion_matrix(array):\n",
    "    array = array\n",
    "    x_labels = ['sleep', 'wake']\n",
    "    y_labels = ['sleep', 'wake']\n",
    "    df_cm = pd.DataFrame(array, y_labels,x_labels)\n",
    "    plt.figure(figsize = (4,4))\n",
    "    sn.set(font_scale=1.4)#for label size\n",
    "    sn.heatmap(df_cm, annot=True, annot_kws={\"size\": 16}, cmap=\"YlGnBu\", fmt='g')# font size\n",
    "    plt.show()\n",
    "\n",
    "# helper function to handle evaluation\n",
    "def model_eval(model, X_test):\n",
    "    pred = model.predict(X_test)\n",
    "    print('Accuracy:\\n-----------------------------')\n",
    "    print(met.accuracy_score(y_test, pred))\n",
    "    print('\\nConfusion Matrix:\\n-----------------------------')\n",
    "    conf = met.confusion_matrix(y_test, pred)\n",
    "    plot_confusion_matrix(conf)\n",
    "    #print(met.confusion_matrix(y_test, pred))\n",
    "    print('\\nClassification Report:\\n-----------------------------')\n",
    "    print(met.classification_report(y_test, pred))"
   ]
  },
  {
   "cell_type": "markdown",
   "metadata": {},
   "source": [
    "# Training and results"
   ]
  },
  {
   "cell_type": "code",
   "execution_count": 23,
   "metadata": {},
   "outputs": [
    {
     "name": "stdout",
     "output_type": "stream",
     "text": [
      "Accuracy:\n",
      "-----------------------------\n",
      "0.952112676056338\n",
      "\n",
      "Confusion Matrix:\n",
      "-----------------------------\n"
     ]
    },
    {
     "data": {
      "image/png": "[encoded data removed]",
      "text/plain": [
       "<Figure size 288x288 with 2 Axes>"
      ]
     },
     "metadata": {
      "needs_background": "light"
     },
     "output_type": "display_data"
    },
    {
     "name": "stdout",
     "output_type": "stream",
     "text": [
      "\n",
      "Classification Report:\n",
      "-----------------------------\n",
      "             precision    recall  f1-score   support\n",
      "\n",
      "          1       0.97      0.95      0.96      2812\n",
      "          2       0.91      0.95      0.93      1448\n",
      "\n",
      "avg / total       0.95      0.95      0.95      4260\n",
      "\n"
     ]
    }
   ],
   "source": [
    "# Decision tree\n",
    "from sklearn.tree import DecisionTreeClassifier\n",
    "\n",
    "dtc = model_build(DecisionTreeClassifier(), X_train, y_train)\n",
    "model_eval(dtc, X_test)"
   ]
  },
  {
   "cell_type": "code",
   "execution_count": 24,
   "metadata": {},
   "outputs": [
    {
     "name": "stdout",
     "output_type": "stream",
     "text": [
      "Accuracy:\n",
      "-----------------------------\n",
      "0.9711267605633803\n",
      "\n",
      "Confusion Matrix:\n",
      "-----------------------------\n"
     ]
    },
    {
     "data": {
      "image/png": "[encoded data removed]",
      "text/plain": [
       "<Figure size 288x288 with 2 Axes>"
      ]
     },
     "metadata": {},
     "output_type": "display_data"
    },
    {
     "name": "stdout",
     "output_type": "stream",
     "text": [
      "\n",
      "Classification Report:\n",
      "-----------------------------\n",
      "             precision    recall  f1-score   support\n",
      "\n",
      "          1       0.97      0.98      0.98      2812\n",
      "          2       0.97      0.94      0.96      1448\n",
      "\n",
      "avg / total       0.97      0.97      0.97      4260\n",
      "\n"
     ]
    }
   ],
   "source": [
    "# Random Forest\n",
    "from sklearn.ensemble import RandomForestClassifier\n",
    "\n",
    "rfc = model_build(RandomForestClassifier(n_estimators=20), X_train, y_train.ravel())\n",
    "model_eval(rfc, X_test)"
   ]
  },
  {
   "cell_type": "code",
   "execution_count": 25,
   "metadata": {},
   "outputs": [
    {
     "name": "stdout",
     "output_type": "stream",
     "text": [
      "Accuracy:\n",
      "-----------------------------\n",
      "0.9744131455399061\n",
      "\n",
      "Confusion Matrix:\n",
      "-----------------------------\n"
     ]
    },
    {
     "name": "stderr",
     "output_type": "stream",
     "text": [
      "C:\\Users\\ailee\\Anaconda3\\lib\\site-packages\\sklearn\\preprocessing\\label.py:151: DeprecationWarning: The truth value of an empty array is ambiguous. Returning False, but in future this will result in an error. Use `array.size > 0` to check that an array is not empty.\n",
      "  if diff:\n"
     ]
    },
    {
     "data": {
      "image/png": "[encoded data removed]",
      "text/plain": [
       "<Figure size 288x288 with 2 Axes>"
      ]
     },
     "metadata": {},
     "output_type": "display_data"
    },
    {
     "name": "stdout",
     "output_type": "stream",
     "text": [
      "\n",
      "Classification Report:\n",
      "-----------------------------\n",
      "             precision    recall  f1-score   support\n",
      "\n",
      "          1       0.97      0.99      0.98      2812\n",
      "          2       0.98      0.95      0.96      1448\n",
      "\n",
      "avg / total       0.97      0.97      0.97      4260\n",
      "\n"
     ]
    }
   ],
   "source": [
    "# Extreme Gradient Boosting\n",
    "from xgboost import XGBClassifier\n",
    "\n",
    "xgbc = model_build(XGBClassifier(n_estimators=150), X_train, y_train.ravel())\n",
    "model_eval(xgbc, X_test)"
   ]
  },
  {
   "cell_type": "code",
   "execution_count": 26,
   "metadata": {},
   "outputs": [
    {
     "name": "stdout",
     "output_type": "stream",
     "text": [
      "Accuracy:\n",
      "-----------------------------\n",
      "0.8896713615023474\n",
      "\n",
      "Confusion Matrix:\n",
      "-----------------------------\n"
     ]
    },
    {
     "data": {
      "image/png": "[encoded data removed]",
      "text/plain": [
       "<Figure size 288x288 with 2 Axes>"
      ]
     },
     "metadata": {},
     "output_type": "display_data"
    },
    {
     "name": "stdout",
     "output_type": "stream",
     "text": [
      "\n",
      "Classification Report:\n",
      "-----------------------------\n",
      "             precision    recall  f1-score   support\n",
      "\n",
      "          1       0.89      0.95      0.92      2812\n",
      "          2       0.89      0.77      0.83      1448\n",
      "\n",
      "avg / total       0.89      0.89      0.89      4260\n",
      "\n"
     ]
    }
   ],
   "source": [
    "# Gaussian Naive Bayes\n",
    "from sklearn.naive_bayes import GaussianNB\n",
    "\n",
    "gnbc = model_build(GaussianNB(priors = None), X_train, y_train.ravel())\n",
    "\n",
    "model_eval(gnbc, X_test)"
   ]
  },
  {
   "cell_type": "code",
   "execution_count": 27,
   "metadata": {},
   "outputs": [
    {
     "name": "stdout",
     "output_type": "stream",
     "text": [
      "Accuracy:\n",
      "-----------------------------\n",
      "0.9650234741784037\n",
      "\n",
      "Confusion Matrix:\n",
      "-----------------------------\n"
     ]
    },
    {
     "data": {
      "image/png": "[encoded data removed]",
      "text/plain": [
       "<Figure size 288x288 with 2 Axes>"
      ]
     },
     "metadata": {},
     "output_type": "display_data"
    },
    {
     "name": "stdout",
     "output_type": "stream",
     "text": [
      "\n",
      "Classification Report:\n",
      "-----------------------------\n",
      "             precision    recall  f1-score   support\n",
      "\n",
      "          1       0.97      0.98      0.97      2812\n",
      "          2       0.96      0.94      0.95      1448\n",
      "\n",
      "avg / total       0.96      0.97      0.96      4260\n",
      "\n"
     ]
    }
   ],
   "source": [
    "# Artificial Neural Network (MultiLayerPerceptor) - 20 hidden neurons\n",
    "from sklearn.neural_network import MLPClassifier\n",
    "\n",
    "annc = model_build(MLPClassifier(solver='adam', alpha=1e-5, hidden_layer_sizes=(20), random_state=1), X_train, y_train.ravel())\n",
    "model_eval(annc, X_test)"
   ]
  },
  {
   "cell_type": "markdown",
   "metadata": {},
   "source": [
    "# Visualizing results\n",
    "Visualizes the classification results of a night of data"
   ]
  },
  {
   "cell_type": "code",
   "execution_count": 3,
   "metadata": {},
   "outputs": [],
   "source": [
    "predictions = load_csv('Subject_1_targets')\n",
    "timestamps = load_csv('Subject_1_timestamps')"
   ]
  },
  {
   "cell_type": "code",
   "execution_count": 4,
   "metadata": {},
   "outputs": [],
   "source": [
    "\n",
    "from matplotlib.ticker import MaxNLocator\n",
    "def visualize_predictions(predictions, timestamps):\n",
    "    predictions.columns = ['prediction']\n",
    "    timestamps.columns = ['Time']\n",
    "    \n",
    "    data = pd.concat([predictions, timestamps], axis=1, sort=False)\n",
    "    data['Time'] = pd.to_datetime(data['Time'])\n",
    "    data = data.set_index(['Time'])\n",
    "    \n",
    "    plt.figure(figsize=(10,4))\n",
    "    plt.yaxis.set_major_locator(MaxNLocator(integer=True))\n",
    "    plt.ylabel('1 = Sleep. 2 = Wake')\n",
    "    data.prediction.plot()\n"
   ]
  },
  {
   "cell_type": "code",
   "execution_count": 5,
   "metadata": {},
   "outputs": [
    {
     "ename": "AttributeError",
     "evalue": "module 'matplotlib.pyplot' has no attribute 'yaxis'",
     "traceback": [
      "\u001b[1;31m---------------------------------------------------------------------------\u001b[0m",
      "\u001b[1;31mAttributeError\u001b[0m                            Traceback (most recent call last)",
      "\u001b[1;32m<ipython-input-5-7737a1c4ddc1>\u001b[0m in \u001b[0;36m<module>\u001b[1;34m()\u001b[0m\n\u001b[1;32m----> 1\u001b[1;33m \u001b[0mvisualize_predictions\u001b[0m\u001b[1;33m(\u001b[0m\u001b[0mpredictions\u001b[0m\u001b[1;33m,\u001b[0m \u001b[0mtimestamps\u001b[0m\u001b[1;33m)\u001b[0m\u001b[1;33m\u001b[0m\u001b[0m\n\u001b[0m",
      "\u001b[1;32m<ipython-input-4-9128b928846f>\u001b[0m in \u001b[0;36mvisualize_predictions\u001b[1;34m(predictions, timestamps)\u001b[0m\n\u001b[0;32m     10\u001b[0m \u001b[1;33m\u001b[0m\u001b[0m\n\u001b[0;32m     11\u001b[0m     \u001b[0mplt\u001b[0m\u001b[1;33m.\u001b[0m\u001b[0mfigure\u001b[0m\u001b[1;33m(\u001b[0m\u001b[0mfigsize\u001b[0m\u001b[1;33m=\u001b[0m\u001b[1;33m(\u001b[0m\u001b[1;36m10\u001b[0m\u001b[1;33m,\u001b[0m\u001b[1;36m4\u001b[0m\u001b[1;33m)\u001b[0m\u001b[1;33m)\u001b[0m\u001b[1;33m\u001b[0m\u001b[0m\n\u001b[1;32m---> 12\u001b[1;33m     \u001b[0mplt\u001b[0m\u001b[1;33m.\u001b[0m\u001b[0myaxis\u001b[0m\u001b[1;33m.\u001b[0m\u001b[0mset_major_locator\u001b[0m\u001b[1;33m(\u001b[0m\u001b[0mMaxNLocator\u001b[0m\u001b[1;33m(\u001b[0m\u001b[0minteger\u001b[0m\u001b[1;33m=\u001b[0m\u001b[1;32mTrue\u001b[0m\u001b[1;33m)\u001b[0m\u001b[1;33m)\u001b[0m\u001b[1;33m\u001b[0m\u001b[0m\n\u001b[0m\u001b[0;32m     13\u001b[0m     \u001b[0mplt\u001b[0m\u001b[1;33m.\u001b[0m\u001b[0mylabel\u001b[0m\u001b[1;33m(\u001b[0m\u001b[1;34m'1 = Sleep. 2 = Wake'\u001b[0m\u001b[1;33m)\u001b[0m\u001b[1;33m\u001b[0m\u001b[0m\n\u001b[0;32m     14\u001b[0m     \u001b[0mdata\u001b[0m\u001b[1;33m.\u001b[0m\u001b[0mprediction\u001b[0m\u001b[1;33m.\u001b[0m\u001b[0mplot\u001b[0m\u001b[1;33m(\u001b[0m\u001b[1;33m)\u001b[0m\u001b[1;33m\u001b[0m\u001b[0m\n",
      "\u001b[1;31mAttributeError\u001b[0m: module 'matplotlib.pyplot' has no attribute 'yaxis'"
     ],
     "output_type": "error"
    },
    {
     "data": {
      "text/plain": [
       "<Figure size 720x288 with 0 Axes>"
      ]
     },
     "metadata": {},
     "output_type": "display_data"
    }
   ],
   "source": [
    "visualize_predictions(predictions, timestamps)"
   ]
  }
 ],
 "metadata": {
  "kernelspec": {
   "display_name": "Python 3",
   "language": "python",
   "name": "python3"
  },
  "language_info": {
   "codemirror_mode": {
    "name": "ipython",
    "version": 3
   },
   "file_extension": ".py",
   "mimetype": "text/x-python",
   "name": "python",
   "nbconvert_exporter": "python",
   "pygments_lexer": "ipython3",
   "version": "3.7.0"
  }
 },
 "nbformat": 4,
 "nbformat_minor": 2
}
